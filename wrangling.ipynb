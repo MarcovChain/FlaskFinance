{
 "cells": [
  {
   "cell_type": "markdown",
   "metadata": {},
   "source": [
    "## mortgage cleanup"
   ]
  },
  {
   "cell_type": "code",
   "execution_count": 50,
   "metadata": {},
   "outputs": [],
   "source": [
    "import pandas as pd\n",
    "import re"
   ]
  },
  {
   "cell_type": "code",
   "execution_count": 104,
   "metadata": {},
   "outputs": [],
   "source": [
    "ww = pd.read_csv('data/mortgage.csv')\n",
    "\n",
    "# strip out the junk of the interest column\n",
    "ww['interest'] = ww['interest'].str.replace(r'Interest:', '')\n",
    "ww['interest'] = ww['interest'].str.replace(r'CM22;Simplii FI', '0')\n",
    "ww['interest'] = ww['interest'].str.replace(r'CM22;PC Financial', '0')\n",
    "ww['interest'] = ww['interest'].str.replace(r',', '')\n",
    "ww['interest'] = ww['interest'].str.replace(r' ', '')\n",
    "ww['interest'] = ww['interest'].fillna(0)\n",
    "ww['interest'] = ww['interest'].astype(float)\n",
    "\n",
    "# strip junk our of principal column\n",
    "ww['principal'] = ww['principal'].str.replace(r'$', '')\n",
    "ww['principal'] = ww['principal'].str.replace(r',', '')\n",
    "ww['principal'] = ww['principal'].astype(float)\n",
    "\n",
    "# reverse row order \n",
    "ww = ww[::-1].reset_index(drop=True)\n",
    "ww['balance'] = 500000 -  ww['principal'].cumsum()\n",
    "\n",
    "# fill in type column - payment or extra\n",
    "ww.loc[ww['interest'] != 0, 'type'] = 'payment' \n",
    "ww.loc[ww['interest'] == 0, 'type'] = 'extra'  \n",
    "\n",
    "ww.to_csv('data/mortgage_clean.csv')"
   ]
  },
  {
   "cell_type": "code",
   "execution_count": null,
   "metadata": {},
   "outputs": [],
   "source": [
    "# https://pythontic.com/pandas/serialization/postgresql"
   ]
  }
 ],
 "metadata": {
  "kernelspec": {
   "display_name": "Python 3.9.1 64-bit ('ff': conda)",
   "language": "python",
   "name": "python39164bitffconda06f90c12bf7747238b14b34cf27e7ad0"
  },
  "language_info": {
   "codemirror_mode": {
    "name": "ipython",
    "version": 3
   },
   "file_extension": ".py",
   "mimetype": "text/x-python",
   "name": "python",
   "nbconvert_exporter": "python",
   "pygments_lexer": "ipython3",
   "version": "3.9.1"
  },
  "orig_nbformat": 2
 },
 "nbformat": 4,
 "nbformat_minor": 2
}