{
 "cells": [
  {
   "cell_type": "markdown",
   "metadata": {},
   "source": [
    "## mortgage cleanup"
   ]
  },
  {
   "cell_type": "code",
   "execution_count": 1,
   "metadata": {},
   "outputs": [],
   "source": [
    "import pandas as pd"
   ]
  },
  {
   "cell_type": "code",
   "execution_count": 5,
   "metadata": {},
   "outputs": [
    {
     "data": {
      "text/html": "<div>\n<style scoped>\n    .dataframe tbody tr th:only-of-type {\n        vertical-align: middle;\n    }\n\n    .dataframe tbody tr th {\n        vertical-align: top;\n    }\n\n    .dataframe thead th {\n        text-align: right;\n    }\n</style>\n<table border=\"1\" class=\"dataframe\">\n  <thead>\n    <tr style=\"text-align: right;\">\n      <th></th>\n      <th>date</th>\n      <th>type</th>\n      <th>principal</th>\n      <th>interest</th>\n      <th>balance</th>\n    </tr>\n  </thead>\n  <tbody>\n    <tr>\n      <th>0</th>\n      <td>2021-02-05</td>\n      <td>NaN</td>\n      <td>$829.21</td>\n      <td>202.05</td>\n      <td>NaN</td>\n    </tr>\n    <tr>\n      <th>1</th>\n      <td>2021-01-22</td>\n      <td>NaN</td>\n      <td>$828.55</td>\n      <td>Interest: 202.71</td>\n      <td>NaN</td>\n    </tr>\n    <tr>\n      <th>2</th>\n      <td>2021-01-08</td>\n      <td>NaN</td>\n      <td>$827.88</td>\n      <td>Interest: 203.38</td>\n      <td>NaN</td>\n    </tr>\n    <tr>\n      <th>3</th>\n      <td>2020-12-31</td>\n      <td>NaN</td>\n      <td>$2,000.00</td>\n      <td>NaN</td>\n      <td>NaN</td>\n    </tr>\n    <tr>\n      <th>4</th>\n      <td>2020-12-25</td>\n      <td>NaN</td>\n      <td>$825.62</td>\n      <td>Interest: 205.64</td>\n      <td>NaN</td>\n    </tr>\n    <tr>\n      <th>...</th>\n      <td>...</td>\n      <td>...</td>\n      <td>...</td>\n      <td>...</td>\n      <td>...</td>\n    </tr>\n    <tr>\n      <th>174</th>\n      <td>2016-03-11</td>\n      <td>NaN</td>\n      <td>$559.27</td>\n      <td>Interest: 471.99</td>\n      <td>NaN</td>\n    </tr>\n    <tr>\n      <th>175</th>\n      <td>2016-02-26</td>\n      <td>NaN</td>\n      <td>$558.74</td>\n      <td>Interest: 472.52</td>\n      <td>NaN</td>\n    </tr>\n    <tr>\n      <th>176</th>\n      <td>2016-02-01</td>\n      <td>NaN</td>\n      <td>$1,207.67</td>\n      <td>Interest: 1,029.67</td>\n      <td>NaN</td>\n    </tr>\n    <tr>\n      <th>177</th>\n      <td>2016-01-01</td>\n      <td>NaN</td>\n      <td>$1,205.18</td>\n      <td>Interest: 1,032.16</td>\n      <td>NaN</td>\n    </tr>\n    <tr>\n      <th>178</th>\n      <td>2015-12-01</td>\n      <td>NaN</td>\n      <td>$0.00</td>\n      <td>NaN</td>\n      <td>NaN</td>\n    </tr>\n  </tbody>\n</table>\n<p>179 rows × 5 columns</p>\n</div>",
      "text/plain": "           date  type   principal            interest  balance\n0    2021-02-05   NaN    $829.21               202.05      NaN\n1    2021-01-22   NaN    $828.55     Interest: 202.71      NaN\n2    2021-01-08   NaN    $827.88     Interest: 203.38      NaN\n3    2020-12-31   NaN  $2,000.00                  NaN      NaN\n4    2020-12-25   NaN    $825.62     Interest: 205.64      NaN\n..          ...   ...         ...                 ...      ...\n174  2016-03-11   NaN    $559.27     Interest: 471.99      NaN\n175  2016-02-26   NaN    $558.74     Interest: 472.52      NaN\n176  2016-02-01   NaN  $1,207.67   Interest: 1,029.67      NaN\n177  2016-01-01   NaN  $1,205.18   Interest: 1,032.16      NaN\n178  2015-12-01   NaN      $0.00                  NaN      NaN\n\n[179 rows x 5 columns]"
     },
     "execution_count": 5,
     "metadata": {},
     "output_type": "execute_result"
    }
   ],
   "source": [
    "ww = pd.read_csv('data/WWmortgage.csv')\n",
    "ww"
   ]
  }
 ],
 "metadata": {
  "kernelspec": {
   "display_name": "Python 3.9.1 64-bit ('ff': conda)",
   "language": "python",
   "name": "python39164bitffconda06f90c12bf7747238b14b34cf27e7ad0"
  },
  "language_info": {
   "codemirror_mode": {
    "name": "ipython",
    "version": 3
   },
   "file_extension": ".py",
   "mimetype": "text/x-python",
   "name": "python",
   "nbconvert_exporter": "python",
   "pygments_lexer": "ipython3",
   "version": "3.9.1"
  },
  "orig_nbformat": 2
 },
 "nbformat": 4,
 "nbformat_minor": 2
}