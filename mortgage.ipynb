{
 "cells": [
  {
   "cell_type": "markdown",
   "metadata": {},
   "source": [
    "## Mortgage notebook"
   ]
  },
  {
   "cell_type": "code",
   "execution_count": 17,
   "metadata": {},
   "outputs": [],
   "source": [
    "import pandas as pd\n",
    "import numpy as np\n",
    "import re"
   ]
  },
  {
   "cell_type": "code",
   "execution_count": 99,
   "metadata": {},
   "outputs": [],
   "source": [
    "ww = pd.read_csv('data/mortgage.csv')\n",
    "\n",
    "# # strip out the junk of the interest column\n",
    "# ww['interest'] = ww['interest'].str.replace(r'Interest:', '')\n",
    "# ww['interest'] = ww['interest'].str.replace(r'CM22;Simplii FI', '0')\n",
    "# ww['interest'] = ww['interest'].str.replace(r'CM22;PC Financial', '0')\n",
    "# ww['interest'] = ww['interest'].str.replace(r',', '')\n",
    "# ww['interest'] = ww['interest'].str.replace(r' ', '')\n",
    "# ww['interest'] = ww['interest'].fillna(0)\n",
    "# ww['interest'] = ww['interest'].astype(float)\n",
    "\n",
    "# # strip junk our of principal column\n",
    "# ww['principal'] = ww['principal'].str.replace(r'$', '')\n",
    "# ww['principal'] = ww['principal'].str.replace(r',', '')\n",
    "# ww['principal'] = ww['principal'].astype(float)\n",
    "\n",
    "# # reverse row order \n",
    "# ww = ww[::-1].reset_index(drop=True)\n",
    "# ww['balance'] = 500000 -  ww['principal'].cumsum()\n",
    "\n",
    "# # fill in type column - payment or extra\n",
    "# ww.loc[ww['interest'] != 0, 'type'] = 'payment' \n",
    "# ww.loc[ww['interest'] == 0, 'type'] = 'extra'  \n",
    "\n",
    "# ww.to_csv('data/mortgage_clean.csv')"
   ]
  },
  {
   "cell_type": "code",
   "execution_count": 105,
   "metadata": {},
   "outputs": [
    {
     "data": {
      "text/html": [
       "<div>\n",
       "<style scoped>\n",
       "    .dataframe tbody tr th:only-of-type {\n",
       "        vertical-align: middle;\n",
       "    }\n",
       "\n",
       "    .dataframe tbody tr th {\n",
       "        vertical-align: top;\n",
       "    }\n",
       "\n",
       "    .dataframe thead th {\n",
       "        text-align: right;\n",
       "    }\n",
       "</style>\n",
       "<table border=\"1\" class=\"dataframe\">\n",
       "  <thead>\n",
       "    <tr style=\"text-align: right;\">\n",
       "      <th></th>\n",
       "      <th>date</th>\n",
       "      <th>type</th>\n",
       "      <th>principal</th>\n",
       "      <th>interest</th>\n",
       "      <th>prin%</th>\n",
       "      <th>prin_total</th>\n",
       "      <th>int%</th>\n",
       "      <th>int_total</th>\n",
       "      <th>balance</th>\n",
       "    </tr>\n",
       "  </thead>\n",
       "  <tbody>\n",
       "    <tr>\n",
       "      <th>0</th>\n",
       "      <td>2015-12-01</td>\n",
       "      <td>extra</td>\n",
       "      <td>0.00</td>\n",
       "      <td>0.00</td>\n",
       "      <td>NaN</td>\n",
       "      <td>0.00</td>\n",
       "      <td>NaN</td>\n",
       "      <td>0.00</td>\n",
       "      <td>500000.00</td>\n",
       "    </tr>\n",
       "    <tr>\n",
       "      <th>1</th>\n",
       "      <td>2016-01-01</td>\n",
       "      <td>payment</td>\n",
       "      <td>1205.18</td>\n",
       "      <td>1032.16</td>\n",
       "      <td>0.5387</td>\n",
       "      <td>1205.18</td>\n",
       "      <td>0.4613</td>\n",
       "      <td>1032.16</td>\n",
       "      <td>498794.82</td>\n",
       "    </tr>\n",
       "    <tr>\n",
       "      <th>2</th>\n",
       "      <td>2016-02-01</td>\n",
       "      <td>payment</td>\n",
       "      <td>1207.67</td>\n",
       "      <td>1029.67</td>\n",
       "      <td>0.5398</td>\n",
       "      <td>2412.85</td>\n",
       "      <td>0.4602</td>\n",
       "      <td>2061.83</td>\n",
       "      <td>497587.15</td>\n",
       "    </tr>\n",
       "    <tr>\n",
       "      <th>3</th>\n",
       "      <td>2016-02-26</td>\n",
       "      <td>payment</td>\n",
       "      <td>558.74</td>\n",
       "      <td>472.52</td>\n",
       "      <td>0.5418</td>\n",
       "      <td>2971.59</td>\n",
       "      <td>0.4582</td>\n",
       "      <td>2534.35</td>\n",
       "      <td>497028.41</td>\n",
       "    </tr>\n",
       "    <tr>\n",
       "      <th>4</th>\n",
       "      <td>2016-03-11</td>\n",
       "      <td>payment</td>\n",
       "      <td>559.27</td>\n",
       "      <td>471.99</td>\n",
       "      <td>0.5423</td>\n",
       "      <td>3530.86</td>\n",
       "      <td>0.4577</td>\n",
       "      <td>3006.34</td>\n",
       "      <td>496469.14</td>\n",
       "    </tr>\n",
       "    <tr>\n",
       "      <th>...</th>\n",
       "      <td>...</td>\n",
       "      <td>...</td>\n",
       "      <td>...</td>\n",
       "      <td>...</td>\n",
       "      <td>...</td>\n",
       "      <td>...</td>\n",
       "      <td>...</td>\n",
       "      <td>...</td>\n",
       "      <td>...</td>\n",
       "    </tr>\n",
       "    <tr>\n",
       "      <th>175</th>\n",
       "      <td>2020-12-31</td>\n",
       "      <td>extra</td>\n",
       "      <td>2000.00</td>\n",
       "      <td>0.00</td>\n",
       "      <td>NaN</td>\n",
       "      <td>246288.00</td>\n",
       "      <td>NaN</td>\n",
       "      <td>48506.60</td>\n",
       "      <td>253712.00</td>\n",
       "    </tr>\n",
       "    <tr>\n",
       "      <th>176</th>\n",
       "      <td>2021-01-08</td>\n",
       "      <td>payment</td>\n",
       "      <td>827.88</td>\n",
       "      <td>203.38</td>\n",
       "      <td>0.8028</td>\n",
       "      <td>247115.88</td>\n",
       "      <td>0.1972</td>\n",
       "      <td>48709.98</td>\n",
       "      <td>252884.12</td>\n",
       "    </tr>\n",
       "    <tr>\n",
       "      <th>177</th>\n",
       "      <td>2021-01-22</td>\n",
       "      <td>payment</td>\n",
       "      <td>828.55</td>\n",
       "      <td>202.71</td>\n",
       "      <td>0.8034</td>\n",
       "      <td>247944.43</td>\n",
       "      <td>0.1966</td>\n",
       "      <td>48912.69</td>\n",
       "      <td>252055.57</td>\n",
       "    </tr>\n",
       "    <tr>\n",
       "      <th>178</th>\n",
       "      <td>2021-02-05</td>\n",
       "      <td>payment</td>\n",
       "      <td>829.21</td>\n",
       "      <td>202.05</td>\n",
       "      <td>0.8041</td>\n",
       "      <td>248773.64</td>\n",
       "      <td>0.1959</td>\n",
       "      <td>49114.74</td>\n",
       "      <td>251226.36</td>\n",
       "    </tr>\n",
       "    <tr>\n",
       "      <th>179</th>\n",
       "      <td>2021-02-05</td>\n",
       "      <td>extra</td>\n",
       "      <td>25000.00</td>\n",
       "      <td>0.00</td>\n",
       "      <td>NaN</td>\n",
       "      <td>273773.64</td>\n",
       "      <td>NaN</td>\n",
       "      <td>49114.74</td>\n",
       "      <td>226226.36</td>\n",
       "    </tr>\n",
       "  </tbody>\n",
       "</table>\n",
       "<p>180 rows × 9 columns</p>\n",
       "</div>"
      ],
      "text/plain": [
       "           date     type  principal  interest   prin%  prin_total    int%  \\\n",
       "0    2015-12-01    extra       0.00      0.00     NaN        0.00     NaN   \n",
       "1    2016-01-01  payment    1205.18   1032.16  0.5387     1205.18  0.4613   \n",
       "2    2016-02-01  payment    1207.67   1029.67  0.5398     2412.85  0.4602   \n",
       "3    2016-02-26  payment     558.74    472.52  0.5418     2971.59  0.4582   \n",
       "4    2016-03-11  payment     559.27    471.99  0.5423     3530.86  0.4577   \n",
       "..          ...      ...        ...       ...     ...         ...     ...   \n",
       "175  2020-12-31    extra    2000.00      0.00     NaN   246288.00     NaN   \n",
       "176  2021-01-08  payment     827.88    203.38  0.8028   247115.88  0.1972   \n",
       "177  2021-01-22  payment     828.55    202.71  0.8034   247944.43  0.1966   \n",
       "178  2021-02-05  payment     829.21    202.05  0.8041   248773.64  0.1959   \n",
       "179  2021-02-05    extra   25000.00      0.00     NaN   273773.64     NaN   \n",
       "\n",
       "     int_total    balance  \n",
       "0         0.00  500000.00  \n",
       "1      1032.16  498794.82  \n",
       "2      2061.83  497587.15  \n",
       "3      2534.35  497028.41  \n",
       "4      3006.34  496469.14  \n",
       "..         ...        ...  \n",
       "175   48506.60  253712.00  \n",
       "176   48709.98  252884.12  \n",
       "177   48912.69  252055.57  \n",
       "178   49114.74  251226.36  \n",
       "179   49114.74  226226.36  \n",
       "\n",
       "[180 rows x 9 columns]"
      ]
     },
     "execution_count": 105,
     "metadata": {},
     "output_type": "execute_result"
    }
   ],
   "source": [
    "ww"
   ]
  },
  {
   "cell_type": "markdown",
   "metadata": {},
   "source": [
    "## Calculate metrics"
   ]
  },
  {
   "cell_type": "code",
   "execution_count": 103,
   "metadata": {},
   "outputs": [],
   "source": [
    "# row-based metrics\n",
    "\n",
    "# principal percentage and cumsum\n",
    "ww['prin%'] = np.where(ww['type'] == 'payment', ww['principal'] / (ww['principal'] + ww['interest']), np.nan).round(4)\n",
    "ww['prin_total'] = ww['principal'].cumsum()\n",
    "\n",
    "# interest percentage and cumsum\n",
    "ww['int%'] =np.where(ww['type'] == 'payment', ww['interest'] / (ww['principal'] + ww['interest']), np.nan).round(4)\n",
    "ww['int_total'] = ww['interest'].cumsum()\n",
    "\n",
    "# running balance\n",
    "ww['balance'] = 500000 - ww['prin_total']"
   ]
  },
  {
   "cell_type": "code",
   "execution_count": 104,
   "metadata": {},
   "outputs": [
    {
     "data": {
      "text/plain": [
       "(89423.64, 184350.0)"
      ]
     },
     "execution_count": 104,
     "metadata": {},
     "output_type": "execute_result"
    }
   ],
   "source": [
    "# total principal and extra payments\n",
    "total_principal = ww.loc[ww['type'] == 'payment', 'principal'].sum()\n",
    "total_extra = ww.loc[ww['type'] == 'extra', 'principal'].sum()\n",
    "total_principal, total_extra"
   ]
  },
  {
   "cell_type": "markdown",
   "metadata": {},
   "source": [
    "## Plotting function"
   ]
  },
  {
   "cell_type": "code",
   "execution_count": 106,
   "metadata": {},
   "outputs": [],
   "source": [
    "import numpy as np\n",
    "import pandas as pd\n",
    "\n",
    "pd.options.plotting.backend = 'holoviews'"
   ]
  },
  {
   "cell_type": "code",
   "execution_count": 113,
   "metadata": {},
   "outputs": [
    {
     "data": {},
     "metadata": {},
     "output_type": "display_data"
    },
    {
     "data": {
      "application/vnd.holoviews_exec.v0+json": "",
      "text/html": [
       "<div id='1887'>\n",
       "\n",
       "\n",
       "\n",
       "\n",
       "\n",
       "  <div class=\"bk-root\" id=\"7432d426-08d3-4dc9-8fe7-ca6ab93f2c84\" data-root-id=\"1887\"></div>\n",
       "</div>\n",
       "<script type=\"application/javascript\">(function(root) {\n",
       "  function embed_document(root) {\n",
       "    var docs_json = {\"d143482c-8e00-41ab-b2df-1df8f9fbd291\":{\"roots\":{\"references\":[{\"attributes\":{\"line_alpha\":0.1,\"line_color\":\"#1f77b3\",\"line_width\":2,\"x\":{\"field\":\"date\"},\"y\":{\"field\":\"prin_total\"}},\"id\":\"1925\",\"type\":\"Line\"},{\"attributes\":{},\"id\":\"1909\",\"type\":\"PanTool\"},{\"attributes\":{},\"id\":\"1910\",\"type\":\"WheelZoomTool\"},{\"attributes\":{},\"id\":\"1908\",\"type\":\"SaveTool\"},{\"attributes\":{\"axis\":{\"id\":\"1901\"},\"grid_line_color\":null,\"ticker\":null},\"id\":\"1903\",\"type\":\"Grid\"},{\"attributes\":{\"overlay\":{\"id\":\"1913\"}},\"id\":\"1911\",\"type\":\"BoxZoomTool\"},{\"attributes\":{},\"id\":\"1912\",\"type\":\"ResetTool\"},{\"attributes\":{\"factors\":[\"2015-12-01\",\"2016-01-01\",\"2016-02-01\",\"2016-02-26\",\"2016-03-11\",\"2016-03-25\",\"2016-04-08\",\"2016-04-22\",\"2016-05-06\",\"2016-05-11\",\"2016-05-20\",\"2016-06-03\",\"2016-06-17\",\"2016-07-01\",\"2016-07-07\",\"2016-07-15\",\"2016-07-29\",\"2016-08-12\",\"2016-08-14\",\"2016-08-26\",\"2016-09-09\",\"2016-09-23\",\"2016-10-07\",\"2016-10-21\",\"2016-11-04\",\"2016-11-18\",\"2016-12-02\",\"2016-12-16\",\"2016-12-30\",\"2017-01-13\",\"2017-01-27\",\"2017-02-10\",\"2017-02-24\",\"2017-02-28\",\"2017-03-10\",\"2017-03-24\",\"2017-04-07\",\"2017-04-21\",\"2017-05-05\",\"2017-05-19\",\"2017-06-02\",\"2017-06-16\",\"2017-06-30\",\"2017-07-14\",\"2017-07-28\",\"2017-08-11\",\"2017-08-25\",\"2017-09-08\",\"2017-09-22\",\"2017-10-06\",\"2017-10-20\",\"2017-11-03\",\"2017-11-20\",\"2017-12-01\",\"2017-12-15\",\"2017-12-29\",\"2018-01-12\",\"2018-01-26\",\"2018-02-09\",\"2018-02-23\",\"2018-03-09\",\"2018-03-13\",\"2018-03-23\",\"2018-04-06\",\"2018-04-20\",\"2018-05-04\",\"2018-05-18\",\"2018-06-01\",\"2018-06-07\",\"2018-06-15\",\"2018-06-29\",\"2018-07-13\",\"2018-07-27\",\"2018-08-10\",\"2018-08-24\",\"2018-09-07\",\"2018-09-21\",\"2018-10-05\",\"2018-10-19\",\"2018-11-02\",\"2018-11-16\",\"2018-11-30\",\"2018-12-14\",\"2018-12-28\",\"2019-01-13\",\"2019-01-25\",\"2019-02-08\",\"2019-02-22\",\"2019-03-01\",\"2019-03-08\",\"2019-03-14\",\"2019-03-22\",\"2019-04-05\",\"2019-04-19\",\"2019-05-03\",\"2019-05-09\",\"2019-05-17\",\"2019-05-31\",\"2019-06-14\",\"2019-06-28\",\"2019-07-12\",\"2019-07-26\",\"2019-08-09\",\"2019-08-23\",\"2019-09-06\",\"2019-09-20\",\"2019-10-04\",\"2019-10-18\",\"2019-11-01\",\"2019-11-07\",\"2019-11-15\",\"2019-11-29\",\"2019-12-13\",\"2019-12-17\",\"2019-12-27\",\"2019-12-28\",\"2020-01-10\",\"2020-01-24\",\"2020-02-07\",\"2020-02-21\",\"2020-03-06\",\"2020-03-20\",\"2020-04-03\",\"2020-04-17\",\"2020-05-01\",\"2020-05-15\",\"2020-05-29\",\"2020-06-12\",\"2020-06-26\",\"2020-07-02\",\"2020-07-10\",\"2020-07-16\",\"2020-07-24\",\"2020-08-07\",\"2020-08-13\",\"2020-08-21\",\"2020-08-23\",\"2020-09-04\",\"2020-09-08\",\"2020-09-18\",\"2020-10-02\",\"2020-10-08\",\"2020-10-16\",\"2020-10-18\",\"2020-10-30\",\"2020-11-13\",\"2020-11-20\",\"2020-11-27\",\"2020-12-11\",\"2020-12-13\",\"2020-12-23\",\"2020-12-25\",\"2020-12-31\",\"2021-01-08\",\"2021-01-22\",\"2021-02-05\"],\"tags\":[[[\"date\",\"date\",null]]]},\"id\":\"1889\",\"type\":\"FactorRange\"},{\"attributes\":{\"margin\":[5,5,5,5],\"name\":\"HSpacer03332\",\"sizing_mode\":\"stretch_width\"},\"id\":\"1888\",\"type\":\"Spacer\"},{\"attributes\":{\"data\":{\"date\":[\"2015-12-01\",\"2016-01-01\",\"2016-02-01\",\"2016-02-26\",\"2016-03-11\",\"2016-03-25\",\"2016-04-08\",\"2016-04-22\",\"2016-05-06\",\"2016-05-11\",\"2016-05-11\",\"2016-05-20\",\"2016-06-03\",\"2016-06-03\",\"2016-06-17\",\"2016-07-01\",\"2016-07-07\",\"2016-07-15\",\"2016-07-29\",\"2016-08-12\",\"2016-08-14\",\"2016-08-26\",\"2016-09-09\",\"2016-09-23\",\"2016-10-07\",\"2016-10-21\",\"2016-10-21\",\"2016-11-04\",\"2016-11-18\",\"2016-11-18\",\"2016-12-02\",\"2016-12-02\",\"2016-12-16\",\"2016-12-30\",\"2016-12-30\",\"2017-01-13\",\"2017-01-27\",\"2017-02-10\",\"2017-02-24\",\"2017-02-28\",\"2017-03-10\",\"2017-03-10\",\"2017-03-24\",\"2017-04-07\",\"2017-04-07\",\"2017-04-21\",\"2017-05-05\",\"2017-05-19\",\"2017-05-19\",\"2017-06-02\",\"2017-06-16\",\"2017-06-16\",\"2017-06-30\",\"2017-07-14\",\"2017-07-28\",\"2017-08-11\",\"2017-08-25\",\"2017-09-08\",\"2017-09-22\",\"2017-10-06\",\"2017-10-20\",\"2017-11-03\",\"2017-11-20\",\"2017-12-01\",\"2017-12-15\",\"2017-12-15\",\"2017-12-29\",\"2017-12-29\",\"2018-01-12\",\"2018-01-26\",\"2018-01-26\",\"2018-02-09\",\"2018-02-09\",\"2018-02-23\",\"2018-03-09\",\"2018-03-13\",\"2018-03-23\",\"2018-04-06\",\"2018-04-20\",\"2018-05-04\",\"2018-05-18\",\"2018-06-01\",\"2018-06-07\",\"2018-06-15\",\"2018-06-29\",\"2018-07-13\",\"2018-07-27\",\"2018-08-10\",\"2018-08-24\",\"2018-09-07\",\"2018-09-21\",\"2018-09-21\",\"2018-10-05\",\"2018-10-05\",\"2018-10-19\",\"2018-10-19\",\"2018-11-02\",\"2018-11-16\",\"2018-11-30\",\"2018-12-14\",\"2018-12-14\",\"2018-12-28\",\"2019-01-13\",\"2019-01-13\",\"2019-01-25\",\"2019-02-08\",\"2019-02-22\",\"2019-03-01\",\"2019-03-08\",\"2019-03-14\",\"2019-03-22\",\"2019-04-05\",\"2019-04-19\",\"2019-05-03\",\"2019-05-09\",\"2019-05-17\",\"2019-05-17\",\"2019-05-31\",\"2019-06-14\",\"2019-06-28\",\"2019-07-12\",\"2019-07-26\",\"2019-08-09\",\"2019-08-23\",\"2019-09-06\",\"2019-09-20\",\"2019-10-04\",\"2019-10-18\",\"2019-11-01\",\"2019-11-07\",\"2019-11-15\",\"2019-11-29\",\"2019-11-29\",\"2019-12-13\",\"2019-12-17\",\"2019-12-27\",\"2019-12-28\",\"2020-01-10\",\"2020-01-10\",\"2020-01-24\",\"2020-02-07\",\"2020-02-21\",\"2020-03-06\",\"2020-03-06\",\"2020-03-20\",\"2020-04-03\",\"2020-04-17\",\"2020-05-01\",\"2020-05-15\",\"2020-05-29\",\"2020-06-12\",\"2020-06-26\",\"2020-07-02\",\"2020-07-10\",\"2020-07-16\",\"2020-07-24\",\"2020-08-07\",\"2020-08-13\",\"2020-08-21\",\"2020-08-23\",\"2020-09-04\",\"2020-09-08\",\"2020-09-18\",\"2020-10-02\",\"2020-10-08\",\"2020-10-16\",\"2020-10-18\",\"2020-10-30\",\"2020-11-13\",\"2020-11-20\",\"2020-11-27\",\"2020-12-11\",\"2020-12-13\",\"2020-12-23\",\"2020-12-25\",\"2020-12-31\",\"2021-01-08\",\"2021-01-22\",\"2021-02-05\",\"2021-02-05\"],\"prin_total\":{\"__ndarray__\":\"AAAAAAAAAAAfhetRuNSSQDQzMzOz2aJASOF6FC43p0AfhetRuJWrQKRwPQpX9a9ACtejcP0qskCPwvUo3Fu0QPUoXI9CjbZAehSuR6EKxUB6FK5Hof7GQLcehetxGshAtx6F63EOykDgehSuhyrLQI7C9ShcR8xAKFyPwnVkzUAUrkfhOqDRQD0K16OgL9JAXI/C9Si/0kCuR+F61E7TQK5H4XrUQtVAj8L1KBzT1UCjcD0Kh2PWQOtRuB4V9NZAZmZmZsaE10BmZmZmxnLaQBSuR+GaA9tAXI/C9UiV20Bcj8L1SAzdQNejcD0ant1A16NwPWow3kDXo3A9aq3eQI/C9Sj8P99ASOF6FP4c4EBcj8L1WGbgQHA9Ctfjr+BAPQrXo4D54EApXI/CTUPhQM3MzMwsjeFAzczMzCwK4kDNzMzMLObnQJDC9Sg8MOhAU7gehUt66EBTuB6FSxDpQPcoXI9qXelAuh6F60Gp6UBUuB6FK/XpQFS4HoUri+pA43oUrifX6kAWrkfhWiPrQBauR+FauetAPwrXo6AF7EAM16NwHVLsQM/MzMysnuxAh+tRuE7r7EA1MzMzAzjtQNmjcD3KhO1AkcL1KKTR7UA/CtejkB7uQAIAAACQa+5Auh6F66G47kCH61G4xgXvQErhehT+Uu9AIYXrUUig70CQwvUoJEfxQIbrUbjSbfFAhutRuFKs8UAqXI/CZdPxQNijcD2C+vFA2KNwPYJx80AghetRqJjzQCCF61HI5vNApXA9ClMO9EBoZmZm+jX0QMT1KFyrXfRAxPUoXKs/+UC6HoXrlWj5QGhmZmaKkflAzszMzIi6+UDtUbgekeP5QFO4HoWjDPpAcj0K1781+kByPQrXf5P6QF6PwvW8vPpAkcL1KATm+kAM16NwVQ/7QLBH4XqwOPtAK1yPwhVi+0DuUbgehYv7QPgoXI/+tPtA+Chcj74S/EBK4XoUQjz8QErhehTCdP1AaWZmZmae/UBpZmZmJvz9QF+PwvUgJv5AsUfhejxQ/kDao3A9Ynr+QNqjcD2SpP5A2qNwPZIh/0CxR+F6zEv/QMX1KFwvdv9AxfUoXO/T/0CxR+F6XP7/QMT1KFx1FABB43oUrsEpAEE1MzMzEz8AQTUzMzMzCgFBfRSuR7sfAUF9FK5HO1gCQcX1KFzDbQJB7lG4HvODAkGmcD0K15kCQdmjcD3ArwJB2aNwPYANA0HZo3A9AEwDQZyZmZkFYgNBDdejcB94A0GI61G4Po4DQcX1KFxjpANBxfUoXI26A0GI61G4vNADQVW4HoXx5gNB5HoUriv9A0F+FK5HaxMEQdqjcD2wKQRBQArXo/o/BEGxR+F6SlYEQSxcj8KfbARBLFyPwr+6BEEN16NwLdEEQQ3Xo3ANAAVB+Shcj4AWBUH5KFyPBC0FQfkoXI+EawVBNjMzMx2CBUE2MzMzncAFQTYzMzOdPQZB+Shcj0pUBkEsXI/CG2sGQfkoXI/ygQZBGK5H4c6YBkEYrkfhjm0IQdDMzMxwhAhB2qNwPcqbCEHG9ShcKbMIQZPC9SiOyghBQQrXo/jhCEHQzMzMaPkIQUEK16PeEAlBk8L1KFooCUEO16Nw2z8JQQ7Xo3Ab3AlBamZmZsjzCUFqZmZmSDIKQSKF61EKSgpBAwAAANJhCkEDAAAAUqAKQbFH4Xp8uQpBsUfhevx0C0H5KFyPUo4LQfkoXI/SzAtBQQrXozrmC0EEAAAAqP8LQQQAAAAoPgxBx/UoXKdXDEHH9ShcJ5YMQdHMzMy4rwxBDtejcE/JDEEO16NwzwcNQZPC9Sh4IQ1Bp3A9CjM7DUGncD0Ks3kNQadwPQozuA1BAwAAAADSDUEDAAAAgBAOQadwPQpfKg5BDdejcENEDkHuUbgeLV4OQfcoXI+2tRBB\",\"dtype\":\"float64\",\"order\":\"little\",\"shape\":[180]}},\"selected\":{\"id\":\"1922\"},\"selection_policy\":{\"id\":\"1939\"}},\"id\":\"1921\",\"type\":\"ColumnDataSource\"},{\"attributes\":{\"bottom_units\":\"screen\",\"fill_alpha\":0.5,\"fill_color\":\"lightgrey\",\"left_units\":\"screen\",\"level\":\"overlay\",\"line_alpha\":1.0,\"line_color\":\"black\",\"line_dash\":[4,4],\"line_width\":2,\"right_units\":\"screen\",\"top_units\":\"screen\"},\"id\":\"1913\",\"type\":\"BoxAnnotation\"},{\"attributes\":{\"text\":\"\",\"text_color\":{\"value\":\"black\"},\"text_font_size\":{\"value\":\"12pt\"}},\"id\":\"1893\",\"type\":\"Title\"},{\"attributes\":{\"source\":{\"id\":\"1921\"}},\"id\":\"1928\",\"type\":\"CDSView\"},{\"attributes\":{},\"id\":\"1939\",\"type\":\"UnionRenderers\"},{\"attributes\":{\"data_source\":{\"id\":\"1921\"},\"glyph\":{\"id\":\"1924\"},\"hover_glyph\":null,\"muted_glyph\":{\"id\":\"1926\"},\"nonselection_glyph\":{\"id\":\"1925\"},\"selection_glyph\":null,\"view\":{\"id\":\"1928\"}},\"id\":\"1927\",\"type\":\"GlyphRenderer\"},{\"attributes\":{},\"id\":\"1929\",\"type\":\"CategoricalTickFormatter\"},{\"attributes\":{\"axis_label\":\"prin_total\",\"bounds\":\"auto\",\"formatter\":{\"id\":\"1931\"},\"major_label_orientation\":\"horizontal\",\"ticker\":{\"id\":\"1905\"}},\"id\":\"1904\",\"type\":\"LinearAxis\"},{\"attributes\":{\"line_alpha\":0.2,\"line_color\":\"#1f77b3\",\"line_width\":2,\"x\":{\"field\":\"date\"},\"y\":{\"field\":\"prin_total\"}},\"id\":\"1926\",\"type\":\"Line\"},{\"attributes\":{\"end\":301151.0040000001,\"reset_end\":301151.0040000001,\"reset_start\":-27377.36400000001,\"start\":-27377.36400000001,\"tags\":[[[\"prin_total\",\"prin_total\",null]]]},\"id\":\"1890\",\"type\":\"Range1d\"},{\"attributes\":{},\"id\":\"1931\",\"type\":\"BasicTickFormatter\"},{\"attributes\":{},\"id\":\"1922\",\"type\":\"Selection\"},{\"attributes\":{\"callback\":null,\"renderers\":[{\"id\":\"1927\"}],\"tags\":[\"hv_created\"],\"tooltips\":[[\"date\",\"@{date}\"],[\"prin_total\",\"@{prin_total}\"]]},\"id\":\"1891\",\"type\":\"HoverTool\"},{\"attributes\":{\"below\":[{\"id\":\"1901\"}],\"center\":[{\"id\":\"1903\"},{\"id\":\"1907\"}],\"left\":[{\"id\":\"1904\"}],\"margin\":[5,5,5,5],\"min_border_bottom\":10,\"min_border_left\":10,\"min_border_right\":10,\"min_border_top\":10,\"plot_height\":300,\"plot_width\":700,\"renderers\":[{\"id\":\"1927\"}],\"sizing_mode\":\"fixed\",\"title\":{\"id\":\"1893\"},\"toolbar\":{\"id\":\"1914\"},\"x_range\":{\"id\":\"1889\"},\"x_scale\":{\"id\":\"1897\"},\"y_range\":{\"id\":\"1890\"},\"y_scale\":{\"id\":\"1899\"}},\"id\":\"1892\",\"subtype\":\"Figure\",\"type\":\"Plot\"},{\"attributes\":{\"line_color\":\"#1f77b3\",\"line_width\":2,\"x\":{\"field\":\"date\"},\"y\":{\"field\":\"prin_total\"}},\"id\":\"1924\",\"type\":\"Line\"},{\"attributes\":{\"margin\":[5,5,5,5],\"name\":\"HSpacer03333\",\"sizing_mode\":\"stretch_width\"},\"id\":\"1949\",\"type\":\"Spacer\"},{\"attributes\":{},\"id\":\"1905\",\"type\":\"BasicTicker\"},{\"attributes\":{},\"id\":\"1897\",\"type\":\"CategoricalScale\"},{\"attributes\":{\"active_drag\":\"auto\",\"active_inspect\":\"auto\",\"active_multi\":null,\"active_scroll\":\"auto\",\"active_tap\":\"auto\",\"tools\":[{\"id\":\"1891\"},{\"id\":\"1908\"},{\"id\":\"1909\"},{\"id\":\"1910\"},{\"id\":\"1911\"},{\"id\":\"1912\"}]},\"id\":\"1914\",\"type\":\"Toolbar\"},{\"attributes\":{},\"id\":\"1902\",\"type\":\"CategoricalTicker\"},{\"attributes\":{\"axis_label\":\"date\",\"bounds\":\"auto\",\"formatter\":{\"id\":\"1929\"},\"major_label_orientation\":\"horizontal\",\"ticker\":{\"id\":\"1902\"}},\"id\":\"1901\",\"type\":\"CategoricalAxis\"},{\"attributes\":{},\"id\":\"1899\",\"type\":\"LinearScale\"},{\"attributes\":{\"children\":[{\"id\":\"1888\"},{\"id\":\"1892\"},{\"id\":\"1949\"}],\"margin\":[0,0,0,0],\"name\":\"Row03328\",\"tags\":[\"embedded\"]},\"id\":\"1887\",\"type\":\"Row\"},{\"attributes\":{\"axis\":{\"id\":\"1904\"},\"dimension\":1,\"grid_line_color\":null,\"ticker\":null},\"id\":\"1907\",\"type\":\"Grid\"}],\"root_ids\":[\"1887\"]},\"title\":\"Bokeh Application\",\"version\":\"2.2.3\"}};\n",
       "    var render_items = [{\"docid\":\"d143482c-8e00-41ab-b2df-1df8f9fbd291\",\"root_ids\":[\"1887\"],\"roots\":{\"1887\":\"7432d426-08d3-4dc9-8fe7-ca6ab93f2c84\"}}];\n",
       "    root.Bokeh.embed.embed_items_notebook(docs_json, render_items);\n",
       "  }\n",
       "  if (root.Bokeh !== undefined && root.Bokeh.Panel !== undefined) {\n",
       "    embed_document(root);\n",
       "  } else {\n",
       "    var attempts = 0;\n",
       "    var timer = setInterval(function(root) {\n",
       "      if (root.Bokeh !== undefined && root.Bokeh.Panel !== undefined) {\n",
       "        clearInterval(timer);\n",
       "        embed_document(root);\n",
       "      } else if (document.readyState == \"complete\") {\n",
       "        attempts++;\n",
       "        if (attempts > 100) {\n",
       "          clearInterval(timer);\n",
       "          console.log(\"Bokeh: ERROR: Unable to run BokehJS code because BokehJS library is missing\");\n",
       "        }\n",
       "      }\n",
       "    }, 10, root)\n",
       "  }\n",
       "})(window);</script>"
      ],
      "text/plain": [
       ":Curve   [date]   (prin_total)"
      ]
     },
     "execution_count": 113,
     "metadata": {
      "application/vnd.holoviews_exec.v0+json": {
       "id": "1887"
      }
     },
     "output_type": "execute_result"
    }
   ],
   "source": [
    "ts = pd.Series(np.random.randn(1000), index=pd.date_range('1/1/2000', periods=1000))\n",
    "ts = ts.cumsum()\n",
    "ww.plot('date', 'prin_total', )"
   ]
  },
  {
   "cell_type": "code",
   "execution_count": 109,
   "metadata": {},
   "outputs": [
    {
     "data": {
      "text/plain": [
       "2000-01-01     0.663015\n",
       "2000-01-02    -0.333538\n",
       "2000-01-03    -0.636805\n",
       "2000-01-04    -0.583395\n",
       "2000-01-05     0.748509\n",
       "                ...    \n",
       "2002-09-22   -52.019561\n",
       "2002-09-23   -52.963527\n",
       "2002-09-24   -53.487135\n",
       "2002-09-25   -53.192208\n",
       "2002-09-26   -51.560633\n",
       "Freq: D, Length: 1000, dtype: float64"
      ]
     },
     "execution_count": 109,
     "metadata": {},
     "output_type": "execute_result"
    }
   ],
   "source": [
    "ts"
   ]
  },
  {
   "cell_type": "code",
   "execution_count": null,
   "metadata": {},
   "outputs": [],
   "source": []
  }
 ],
 "metadata": {
  "kernelspec": {
   "display_name": "Python 3.9.1 64-bit ('ff': conda)",
   "language": "python",
   "name": "python39164bitffconda06f90c12bf7747238b14b34cf27e7ad0"
  },
  "language_info": {
   "codemirror_mode": {
    "name": "ipython",
    "version": 3
   },
   "file_extension": ".py",
   "mimetype": "text/x-python",
   "name": "python",
   "nbconvert_exporter": "python",
   "pygments_lexer": "ipython3",
   "version": "3.9.1"
  }
 },
 "nbformat": 4,
 "nbformat_minor": 4
}
