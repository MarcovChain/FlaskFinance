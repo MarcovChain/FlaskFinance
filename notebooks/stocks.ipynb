{
 "cells": [
  {
   "cell_type": "markdown",
   "metadata": {},
   "source": [
    "## test code for the stocks app"
   ]
  },
  {
   "cell_type": "code",
   "execution_count": 1,
   "metadata": {},
   "outputs": [],
   "source": [
    "import pandas as pd\n",
    "import numpy as np\n",
    "from alpha_vantage.timeseries import TimeSeries\n",
    "from alpha_vantage.techindicators import TechIndicators\n",
    "from matplotlib.pyplot import figure\n",
    "import matplotlib.pyplot as plt\n",
    "import m4_parameters\n",
    "\n",
    "# Your key here\n",
    "key = m4_parameters.key\n",
    "# Chose your output format, or default to JSON (python dict)\n",
    "ts = TimeSeries(key, output_format='pandas', indexing_type='date')\n",
    "ti = TechIndicators(key, output_format='pandas', indexing_type='date')"
   ]
  },
  {
   "cell_type": "code",
   "execution_count": 2,
   "metadata": {},
   "outputs": [],
   "source": [
    "# Get the data, returns a tuple\n",
    "# aapl_data is a pandas dataframe, aapl_meta_data is a dict\n",
    "aapl_data, aapl_meta_data = ts.get_daily(symbol='AAPL', outputsize='compact')\n",
    "# aapl_sma is a dict, aapl_meta_sma also a dict\n",
    "aapl_sma, aapl_meta_sma = ti.get_sma(symbol='AAPL')"
   ]
  },
  {
   "cell_type": "code",
   "execution_count": 3,
   "metadata": {},
   "outputs": [
    {
     "data": {
      "text/html": "<div>\n<style scoped>\n    .dataframe tbody tr th:only-of-type {\n        vertical-align: middle;\n    }\n\n    .dataframe tbody tr th {\n        vertical-align: top;\n    }\n\n    .dataframe thead th {\n        text-align: right;\n    }\n</style>\n<table border=\"1\" class=\"dataframe\">\n  <thead>\n    <tr style=\"text-align: right;\">\n      <th></th>\n      <th>1. open</th>\n      <th>2. high</th>\n      <th>3. low</th>\n      <th>4. close</th>\n      <th>5. volume</th>\n    </tr>\n    <tr>\n      <th>date</th>\n      <th></th>\n      <th></th>\n      <th></th>\n      <th></th>\n      <th></th>\n    </tr>\n  </thead>\n  <tbody>\n    <tr>\n      <th>2021-02-24</th>\n      <td>124.94</td>\n      <td>125.560</td>\n      <td>122.23</td>\n      <td>125.35</td>\n      <td>109992387.0</td>\n    </tr>\n    <tr>\n      <th>2021-02-23</th>\n      <td>123.76</td>\n      <td>126.710</td>\n      <td>118.39</td>\n      <td>125.86</td>\n      <td>158273022.0</td>\n    </tr>\n    <tr>\n      <th>2021-02-22</th>\n      <td>128.01</td>\n      <td>129.720</td>\n      <td>125.60</td>\n      <td>126.00</td>\n      <td>102886922.0</td>\n    </tr>\n    <tr>\n      <th>2021-02-19</th>\n      <td>130.24</td>\n      <td>130.710</td>\n      <td>128.80</td>\n      <td>129.87</td>\n      <td>87668834.0</td>\n    </tr>\n    <tr>\n      <th>2021-02-18</th>\n      <td>129.20</td>\n      <td>129.995</td>\n      <td>127.41</td>\n      <td>129.71</td>\n      <td>96856748.0</td>\n    </tr>\n    <tr>\n      <th>...</th>\n      <td>...</td>\n      <td>...</td>\n      <td>...</td>\n      <td>...</td>\n      <td>...</td>\n    </tr>\n    <tr>\n      <th>2020-10-07</th>\n      <td>114.62</td>\n      <td>115.550</td>\n      <td>114.13</td>\n      <td>115.08</td>\n      <td>96848985.0</td>\n    </tr>\n    <tr>\n      <th>2020-10-06</th>\n      <td>115.70</td>\n      <td>116.120</td>\n      <td>112.25</td>\n      <td>113.16</td>\n      <td>161498212.0</td>\n    </tr>\n    <tr>\n      <th>2020-10-05</th>\n      <td>113.91</td>\n      <td>116.650</td>\n      <td>113.55</td>\n      <td>116.50</td>\n      <td>106243839.0</td>\n    </tr>\n    <tr>\n      <th>2020-10-02</th>\n      <td>112.89</td>\n      <td>115.370</td>\n      <td>112.22</td>\n      <td>113.02</td>\n      <td>144711986.0</td>\n    </tr>\n    <tr>\n      <th>2020-10-01</th>\n      <td>117.64</td>\n      <td>117.720</td>\n      <td>115.83</td>\n      <td>116.79</td>\n      <td>116120440.0</td>\n    </tr>\n  </tbody>\n</table>\n<p>100 rows × 5 columns</p>\n</div>",
      "text/plain": "            1. open  2. high  3. low  4. close    5. volume\ndate                                                       \n2021-02-24   124.94  125.560  122.23    125.35  109992387.0\n2021-02-23   123.76  126.710  118.39    125.86  158273022.0\n2021-02-22   128.01  129.720  125.60    126.00  102886922.0\n2021-02-19   130.24  130.710  128.80    129.87   87668834.0\n2021-02-18   129.20  129.995  127.41    129.71   96856748.0\n...             ...      ...     ...       ...          ...\n2020-10-07   114.62  115.550  114.13    115.08   96848985.0\n2020-10-06   115.70  116.120  112.25    113.16  161498212.0\n2020-10-05   113.91  116.650  113.55    116.50  106243839.0\n2020-10-02   112.89  115.370  112.22    113.02  144711986.0\n2020-10-01   117.64  117.720  115.83    116.79  116120440.0\n\n[100 rows x 5 columns]"
     },
     "execution_count": 3,
     "metadata": {},
     "output_type": "execute_result"
    }
   ],
   "source": [
    "aapl_data"
   ]
  },
  {
   "cell_type": "code",
   "execution_count": 5,
   "metadata": {},
   "outputs": [
    {
     "data": {
      "text/html": "<div>\n<style scoped>\n    .dataframe tbody tr th:only-of-type {\n        vertical-align: middle;\n    }\n\n    .dataframe tbody tr th {\n        vertical-align: top;\n    }\n\n    .dataframe thead th {\n        text-align: right;\n    }\n</style>\n<table border=\"1\" class=\"dataframe\">\n  <thead>\n    <tr style=\"text-align: right;\">\n      <th></th>\n      <th>date</th>\n      <th>ticker</th>\n      <th>name</th>\n      <th>type</th>\n      <th>number</th>\n      <th>price</th>\n      <th>total</th>\n      <th>currency</th>\n      <th>account</th>\n    </tr>\n  </thead>\n  <tbody>\n    <tr>\n      <th>0</th>\n      <td>2019-07-10</td>\n      <td>MSFT</td>\n      <td>Microsoft</td>\n      <td>buy</td>\n      <td>752</td>\n      <td>136.21</td>\n      <td>102439.91</td>\n      <td>USD</td>\n      <td>207410</td>\n    </tr>\n    <tr>\n      <th>1</th>\n      <td>2019-09-12</td>\n      <td>MSFT</td>\n      <td>Microsoft</td>\n      <td>dividend</td>\n      <td>2</td>\n      <td>137.13</td>\n      <td>71.66</td>\n      <td>USD</td>\n      <td>207410</td>\n    </tr>\n    <tr>\n      <th>2</th>\n      <td>2019-11-19</td>\n      <td>KEY</td>\n      <td>Keyera</td>\n      <td>buy</td>\n      <td>914</td>\n      <td>33.80</td>\n      <td>30890.59</td>\n      <td>CAD</td>\n      <td>23W887</td>\n    </tr>\n    <tr>\n      <th>3</th>\n      <td>2019-12-12</td>\n      <td>MSFT</td>\n      <td>Microsoft</td>\n      <td>dividend</td>\n      <td>2</td>\n      <td>153.01</td>\n      <td>78.51</td>\n      <td>USD</td>\n      <td>207410</td>\n    </tr>\n    <tr>\n      <th>4</th>\n      <td>2019-12-16</td>\n      <td>MSFT</td>\n      <td>Microsoft</td>\n      <td>buy</td>\n      <td>7</td>\n      <td>151.62</td>\n      <td>1071.33</td>\n      <td>USD</td>\n      <td>207410</td>\n    </tr>\n  </tbody>\n</table>\n</div>",
      "text/plain": "         date ticker       name      type  number   price      total currency  \\\n0  2019-07-10   MSFT  Microsoft       buy     752  136.21  102439.91      USD   \n1  2019-09-12   MSFT  Microsoft  dividend       2  137.13      71.66      USD   \n2  2019-11-19    KEY     Keyera       buy     914   33.80   30890.59      CAD   \n3  2019-12-12   MSFT  Microsoft  dividend       2  153.01      78.51      USD   \n4  2019-12-16   MSFT  Microsoft       buy       7  151.62    1071.33      USD   \n\n  account  \n0  207410  \n1  207410  \n2  23W887  \n3  207410  \n4  207410  "
     },
     "execution_count": 5,
     "metadata": {},
     "output_type": "execute_result"
    }
   ],
   "source": [
    "st = pd.read_csv('../data/stocks.csv')\n",
    "st.head()"
   ]
  },
  {
   "cell_type": "code",
   "execution_count": null,
   "metadata": {},
   "outputs": [],
   "source": []
  }
 ],
 "metadata": {
  "kernelspec": {
   "display_name": "Python 3.9.1 64-bit ('ff': conda)",
   "language": "python",
   "name": "python39164bitffconda06f90c12bf7747238b14b34cf27e7ad0"
  },
  "language_info": {
   "codemirror_mode": {
    "name": "ipython",
    "version": 3
   },
   "file_extension": ".py",
   "mimetype": "text/x-python",
   "name": "python",
   "nbconvert_exporter": "python",
   "pygments_lexer": "ipython3",
   "version": "3.9.1"
  },
  "orig_nbformat": 2
 },
 "nbformat": 4,
 "nbformat_minor": 2
}