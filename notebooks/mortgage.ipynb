{
 "cells": [
  {
   "cell_type": "markdown",
   "metadata": {},
   "source": [
    "## Mortgage notebook"
   ]
  },
  {
   "cell_type": "code",
   "execution_count": 2,
   "metadata": {},
   "outputs": [],
   "source": [
    "import pandas as pd\n",
    "import numpy as np\n",
    "import m4_parameters"
   ]
  },
  {
   "cell_type": "code",
   "execution_count": 3,
   "metadata": {},
   "outputs": [],
   "source": [
    "mt = pd.read_csv('../data/mortgage.csv')\n",
    "\n",
    "# # strip out the junk of the interest column\n",
    "# ww['interest'] = ww['interest'].str.replace(r'Interest:', '')\n",
    "# ww['interest'] = ww['interest'].str.replace(r'CM22;Simplii FI', '0')\n",
    "# ww['interest'] = ww['interest'].str.replace(r'CM22;PC Financial', '0')\n",
    "# ww['interest'] = ww['interest'].str.replace(r',', '')\n",
    "# ww['interest'] = ww['interest'].str.replace(r' ', '')\n",
    "# ww['interest'] = ww['interest'].fillna(0)\n",
    "# ww['interest'] = ww['interest'].astype(float)\n",
    "\n",
    "# # strip junk our of principal column\n",
    "# ww['principal'] = ww['principal'].str.replace(r'$', '')\n",
    "# ww['principal'] = ww['principal'].str.replace(r',', '')\n",
    "# ww['principal'] = ww['principal'].astype(float)\n",
    "\n",
    "# # reverse row order \n",
    "# ww = ww[::-1].reset_index(drop=True)\n",
    "# ww['balance'] = m4_parameters.mt_balance -  ww['principal'].cumsum()\n",
    "\n",
    "# # fill in type column - payment or extra\n",
    "# ww.loc[ww['interest'] != 0, 'type'] = 'payment' \n",
    "# ww.loc[ww['interest'] == 0, 'type'] = 'extra'  \n",
    "\n",
    "# ww.to_csv('data/mortgage_clean.csv')"
   ]
  },
  {
   "cell_type": "markdown",
   "metadata": {},
   "source": [
    "## Calculate metrics"
   ]
  },
  {
   "cell_type": "code",
   "execution_count": 4,
   "metadata": {},
   "outputs": [],
   "source": [
    "mt['prin%'] = np.where(mt['type'] == 'payment', (mt['principal'] / (mt['principal'] + mt['interest'])*100), np.nan).round(2)\n",
    "mt['prin_total'] = round(mt['principal'].cumsum(),2)\n",
    "\n",
    "# interest percentage and cumsum\n",
    "mt['int%'] =np.where(mt['type'] == 'payment', (mt['interest'] / (mt['principal'] + mt['interest'])* 100), np.nan).round(2) \n",
    "mt['int_total'] = round(mt['interest'].cumsum(),2)\n",
    "\n",
    "# running balance\n",
    "mt['balance'] = round(500000 - mt['prin_total'], 2)\n",
    "mt['balance2'] = mt['balance'].map(\"{:,}\".format)\n",
    "\n",
    "# summary dataframe\n",
    "col_names =  ['total payments', 'total extra', 'total principal',\n",
    "                'principal %', 'total interest', 'interest %', \n",
    "                'remaining balance']\n",
    "mt_summary = pd.DataFrame(columns = col_names)\n",
    "mt_summary = pd.DataFrame({\n",
    "                    'total payments': mt.loc[mt['type'] == 'payment', 'principal'].sum(),  \n",
    "                    'total extra': [mt.loc[mt['type'] == 'extra', 'principal'].sum()],\n",
    "                    'total principal': mt['prin_total'].max(),\n",
    "                    'principal %': mt['prin%'].max(),\n",
    "                    'total interest': mt['int_total'].max(),\n",
    "                    'interest %': mt['int%'].min(), \n",
    "                    'remaining balance': mt['balance'].min(),\n",
    "                    })"
   ]
  },
  {
   "cell_type": "code",
   "execution_count": 5,
   "metadata": {},
   "outputs": [
    {
     "data": {
      "text/plain": "0       NaN\n1       NaN\n2     -0.11\n3     -0.20\n4     -0.05\n       ... \n177   -0.06\n178   -0.07\n179     NaN\n180     NaN\n181     NaN\nName: int%, Length: 182, dtype: float64"
     },
     "execution_count": 5,
     "metadata": {},
     "output_type": "execute_result"
    }
   ],
   "source": [
    "mt['int%'].diff()"
   ]
  }
 ],
 "metadata": {
  "kernelspec": {
   "display_name": "Python 3.9.1 64-bit ('ff': conda)",
   "language": "python",
   "name": "python39164bitffconda06f90c12bf7747238b14b34cf27e7ad0"
  },
  "language_info": {
   "codemirror_mode": {
    "name": "ipython",
    "version": 3
   },
   "file_extension": ".py",
   "mimetype": "text/x-python",
   "name": "python",
   "nbconvert_exporter": "python",
   "pygments_lexer": "ipython3",
   "version": "3.9.1"
  }
 },
 "nbformat": 4,
 "nbformat_minor": 4
}